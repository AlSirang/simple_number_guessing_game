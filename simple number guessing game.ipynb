{
 "cells": [
  {
   "cell_type": "code",
   "execution_count": 30,
   "metadata": {},
   "outputs": [],
   "source": [
    "import random as rand\n",
    "from tkinter import*\n"
   ]
  },
  {
   "cell_type": "code",
   "execution_count": 31,
   "metadata": {},
   "outputs": [],
   "source": [
    "root= Tk()\n",
    "root.title(\"Number Guess game\")\n",
    "root.geometry(\"300x150\")\n",
    "\n",
    "\n",
    "label_one=Label(root,text=\"Your Guess is \")\n",
    "\n",
    "\"\"\"\n",
    "To tell user to press play button before he starts game.\n",
    "When he presses the paly button it will generate random number\n",
    "against which we will check his input.\n",
    "\"\"\"\n",
    "message = StringVar(root, value=\"Press Play game button to Start\")\n",
    "input_box=Entry(root,textvariable=message, width=30, borderwidth=2)\n",
    "\n",
    "label_one.grid(row=1, column=0)\n",
    "input_box.grid(row=1, column=1)\n",
    "\n",
    "\n",
    "def generateRandNum():\n",
    "    cleanScreen()\n",
    "    global rand_num\n",
    "    rand_num= rand.randrange(0,10)\n",
    "\n",
    "def checkGuess(guessed_num,num):\n",
    "    cleanScreen()\n",
    "    if guessed_num == num:\n",
    "        input_box.insert(0,\"You got it!\")\n",
    "    elif guessed_num >num:\n",
    "        input_box.insert(0,\"too high\")\n",
    "    else:\n",
    "        input_box.insert(0,\"Too low\")\n",
    "        \n",
    "def getInput():\n",
    "    try:\n",
    "        input_num=int(input_box.get())\n",
    "        checkGuess(input_num, rand_num)\n",
    "    except ValueError:\n",
    "        cleanScreen()        \n",
    "        input_box.insert(0,\"Interger only\")\n",
    "    \n",
    "def cleanScreen():\n",
    "    input_box.delete(0,END)\n",
    "    \n",
    "#create buttons   \n",
    "check_button = Button(root, text=\"Check My Guess\", padx=94, command=getInput)\n",
    "clear_button =Button( root, text=\"Clear Screen\", padx=105,command=cleanScreen)\n",
    "reset_button = Button(root, text=\"Play game\", padx=110,  command=generateRandNum)\n",
    "\n",
    "\n",
    "#show buttons on screen\n",
    "clear_button.grid(row=3, column=0, columnspan=2)\n",
    "check_button.grid(row=4, column=0, columnspan=2)\n",
    "reset_button.grid(row=5, column=0, columnspan=2)\n",
    "\n",
    "root.mainloop()\n"
   ]
  },
  {
   "cell_type": "code",
   "execution_count": null,
   "metadata": {},
   "outputs": [],
   "source": []
  },
  {
   "cell_type": "code",
   "execution_count": null,
   "metadata": {},
   "outputs": [],
   "source": []
  }
 ],
 "metadata": {
  "kernelspec": {
   "display_name": "Python 3",
   "language": "python",
   "name": "python3"
  },
  "language_info": {
   "codemirror_mode": {
    "name": "ipython",
    "version": 3
   },
   "file_extension": ".py",
   "mimetype": "text/x-python",
   "name": "python",
   "nbconvert_exporter": "python",
   "pygments_lexer": "ipython3",
   "version": "3.6.4"
  }
 },
 "nbformat": 4,
 "nbformat_minor": 2
}
